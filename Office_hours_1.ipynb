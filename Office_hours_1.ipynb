{
  "nbformat": 4,
  "nbformat_minor": 0,
  "metadata": {
    "colab": {
      "provenance": [],
      "include_colab_link": true
    },
    "kernelspec": {
      "name": "python3",
      "display_name": "Python 3"
    },
    "language_info": {
      "name": "python"
    }
  },
  "cells": [
    {
      "cell_type": "markdown",
      "metadata": {
        "id": "view-in-github",
        "colab_type": "text"
      },
      "source": [
        "<a href=\"https://colab.research.google.com/github/olujozef/ARF-ARENA/blob/main/Office_hours_1.ipynb\" target=\"_parent\"><img src=\"https://colab.research.google.com/assets/colab-badge.svg\" alt=\"Open In Colab\"/></a>"
      ]
    },
    {
      "cell_type": "markdown",
      "source": [
        "SETUP"
      ],
      "metadata": {
        "id": "FPhBW3KMsem-"
      }
    },
    {
      "cell_type": "code",
      "execution_count": 85,
      "metadata": {
        "id": "I-gk7KDbSnNc"
      },
      "outputs": [],
      "source": [
        "import einops\n",
        "import torch as t\n",
        "from torch import Tensor\n",
        "from typing import Tuple\n",
        "\n",
        "def assert_all_equal(actual: Tensor, expected: Tensor) -> None:\n",
        "    assert actual.shape == expected.shape, f\"Shape mismatch, got: {actual.shape}\"\n",
        "    assert (actual == expected).all(), f\"Value mismatch, got: {actual}\"\n",
        "    print(\"Tests passed!\")\n",
        "\n",
        "\n",
        "def assert_all_close(actual: Tensor, expected: Tensor, atol=1e-3) -> None:\n",
        "    assert actual.shape == expected.shape, f\"Shape mismatch, got: {actual.shape}\"\n",
        "    t.testing.assert_close(actual, expected, atol=atol, rtol=0.0)\n",
        "    print(\"Tests passed!\")"
      ]
    },
    {
      "cell_type": "markdown",
      "source": [
        "Task 1"
      ],
      "metadata": {
        "id": "btqk8wFfW5Ez"
      }
    },
    {
      "cell_type": "code",
      "source": [
        "def copy_along_dimension(input: Tensor, copies: int) -> Tensor:\n",
        "    \"\"\"Create a new tensor by copying the input tensor along a new dimension at the end.\n",
        "\n",
        "    input: Input tensor of any shape\n",
        "    copies: Number of copies to make along the new dimension\n",
        "\n",
        "    Return: Tensor with shape (*tens.shape, copies) where the last dimension contains\n",
        "    identical copies of the original tensor.\n",
        "\n",
        "    Use einops operations to implement this function.\n",
        "    \"\"\"\n",
        "\n",
        "    from einops import repeat\n",
        "    return repeat(input, \"... -> ... copies\", copies=copies)\n",
        "input = t.tensor([1, 2, 3])\n",
        "expected_result = t.tensor([[1, 1],\n",
        "                            [2, 2],\n",
        "                            [3, 3]])\n",
        "assert_all_equal(copy_along_dimension(input, 2), expected_result)"
      ],
      "metadata": {
        "colab": {
          "base_uri": "https://localhost:8080/"
        },
        "id": "wsbJGTYcLiJD",
        "outputId": "233e27e1-7134-4b01-f5b8-8741df7e27cf"
      },
      "execution_count": 86,
      "outputs": [
        {
          "output_type": "stream",
          "name": "stdout",
          "text": [
            "Tests passed!\n"
          ]
        }
      ]
    },
    {
      "cell_type": "code",
      "source": [
        "from einops import repeat, rearrange\n",
        "def copy_along_dimension(input: Tensor, copies: int) -> Tensor:\n",
        "\n",
        "    return rearrange(repeat (input, 'h w -> (h w) copies', copies =copies), '(h w) copies -> (h w) copies', h=input.shape[0], w=input.shape[1])\n",
        "input = t.tensor([[1, 2], [3, 4]])  # shape: (2, 2)\n",
        "expected_result = t.tensor([[1, 1, 1],\n",
        "                            [2, 2, 2],\n",
        "                            [3, 3, 3],\n",
        "                            [4, 4, 4]])\n",
        "assert_all_equal(copy_along_dimension(input, 3), expected_result)  # → (2, 2) from (4, 3)\n",
        "print(expected_result.shape)\n"
      ],
      "metadata": {
        "colab": {
          "base_uri": "https://localhost:8080/"
        },
        "id": "KHBIxrbZ29_H",
        "outputId": "7db936fd-0787-4f3a-9988-758fce0f4457"
      },
      "execution_count": 48,
      "outputs": [
        {
          "output_type": "stream",
          "name": "stdout",
          "text": [
            "Tests passed!\n",
            "torch.Size([4, 3])\n"
          ]
        }
      ]
    },
    {
      "cell_type": "markdown",
      "source": [
        "Task 2"
      ],
      "metadata": {
        "id": "avck7VM5tqwm"
      }
    },
    {
      "cell_type": "code",
      "source": [
        "def compute_ray_lengths(origins: Tensor, directions: Tensor,\n",
        "                       t_values: Tensor) -> Tensor:\n",
        "    \"\"\"\n",
        "    Calculate the 3D positions along rays at different distances.\n",
        "    Then compute the length of each resulting position vector (distance from origin).\n",
        "\n",
        "    Parameters:\n",
        "    - origins: The origin points of rays\n",
        "    - directions: The direction vectors of rays\n",
        "    - t_values: Distance values along each ray\n",
        "\n",
        "    Returns:\n",
        "    - lengths: The distance of each point from (0,0,0)\n",
        "\n",
        "    Hint: For each ray, the point at distance t is: origin + t * direction\n",
        "          The length of a position vector is its Euclidean distance from (0,0,0)\n",
        "\n",
        "    What to do:\n",
        "    #find the lengths = t.linalg.norm(points, dim=-1)\n",
        "    points = origin + t_values * direction\n",
        "    # origin = (3,3)\n",
        "    # direction = (3,3)\n",
        "    # t_values = (3). We should reshape it to (3,1) for easy elementwise multiplication with the direction\n",
        "\n",
        "    \"\"\"\n",
        "    ### To Reshape t_value\n",
        "    reshaped_t_values = t_values.reshape(-1, 1)  # Now t_value is same shape with the others.\n",
        "\n",
        "    ### multiply t_values by the direction\n",
        "    broadcasted  = reshaped_t_values * directions\n",
        "\n",
        "    ### Point at distance t\n",
        "    points = origins + broadcasted\n",
        "\n",
        "    ### Now to find the lengths from (0,0,0), i.e the Euclidean distance\n",
        "    lengths = t.linalg.norm(points, dim=-1)\n",
        "    return lengths\n",
        "\n",
        "origins = t.tensor([\n",
        "    [0.0, 0.0, 0.0],\n",
        "    [1.0, 0.0, 0.0],\n",
        "    [0.0, 2.0, 0.0]\n",
        "])\n",
        "\n",
        "directions = t.tensor([\n",
        "    [1.0, 0.0, 0.0],\n",
        "    [0.0, 1.0, 0.0],\n",
        "    [0.0, 0.0, 1.0]\n",
        "])\n",
        "\n",
        "t_values = t.tensor([5.0, 4.0, 3.0])\n",
        "lengths = compute_ray_lengths(origins, directions, t_values)\n",
        "expected = t.tensor([5.0, t.sqrt(t.tensor(17.0)), t.sqrt(t.tensor(13.0))])\n",
        "\n",
        "assert_all_close(compute_ray_lengths(origins, directions, t_values),\n",
        "                     expected)\n"
      ],
      "metadata": {
        "id": "JD0BXHkjtr2j",
        "colab": {
          "base_uri": "https://localhost:8080/"
        },
        "outputId": "9d102342-0c80-4c4f-85ff-f0b606756e04"
      },
      "execution_count": 51,
      "outputs": [
        {
          "output_type": "stream",
          "name": "stdout",
          "text": [
            "Tests passed!\n"
          ]
        }
      ]
    },
    {
      "cell_type": "code",
      "source": [
        "def compute_final_positions_and_distances(positions: Tensor, velocities: Tensor, times: Tensor) -> Tuple  [Tensor, Tensor]:\n",
        "\n",
        "    \"\"\"\n",
        "    Problem: Compute Final Positions of Moving Objects in 3D Space\n",
        "    Imagine you have a set of objects in 3D space. Each one has:\n",
        "\n",
        "    an initial position\n",
        "\n",
        "    a velocity vector (how fast and in what direction it’s moving)\n",
        "\n",
        "    and a time duration it's been moving.\n",
        "\n",
        "    You need to calculate:\n",
        "\n",
        "    The final position of each object.\n",
        "\n",
        "    The distance from the origin (0,0,0) after moving.\n",
        "\n",
        "    📌 Task:\n",
        "    Implement the function:\n",
        "\n",
        "\n",
        "\n",
        "        Compute the final positions of moving objects and their distances from the origin.\n",
        "\n",
        "        Parameters:\n",
        "        - positions: (N, 3) tensor of initial positions\n",
        "        - velocities: (N, 3) tensor of velocity vectors\n",
        "        - times: (N,) tensor of time durations\n",
        "\n",
        "        Returns:\n",
        "        - final_positions: (N, 3) tensor of new positions\n",
        "        - distances: (N,) tensor of distances from the origin\n",
        "\n",
        "    Final position = initial_position + velocity * time\n",
        "\n",
        "    Distance from origin = Euclidean norm = torch.linalg.norm(position, dim=-1)\n",
        "\n",
        "    \"\"\"\n",
        "# Reshape time\n",
        "    reshaped_times = times.reshape(-1, 1)\n",
        "\n",
        "    broadcasted = reshaped_times * velocities\n",
        "# final postion\n",
        "    final_positions = positions + broadcasted\n",
        "\n",
        "# Distance\n",
        "    distances = t.linalg.norm(final_positions, dim=-1)\n",
        "    return final_positions, distances\n",
        "\n",
        "positions = t.tensor([\n",
        "    [0.0, 0.0, 0.0],\n",
        "    [1.0, 2.0, 3.0],\n",
        "    [4.0, 0.0, 0.0]\n",
        "])\n",
        "\n",
        "velocities = t.tensor([\n",
        "    [1.0, 0.0, 0.0],\n",
        "    [0.0, 2.0, 0.0],\n",
        "    [0.0, 0.0, 1.0]\n",
        "])\n",
        "\n",
        "times = t.tensor([2.0, 3.0, 4.0])\n",
        "\n",
        "final_positions, distances = compute_final_positions_and_distances(positions, velocities, times)\n",
        "\n",
        "print(\"Final Positions:\\n\", final_positions)\n",
        "print(\"Distances from Origin:\\n\", distances)"
      ],
      "metadata": {
        "colab": {
          "base_uri": "https://localhost:8080/"
        },
        "id": "xZ-O3Q8kV2Ot",
        "outputId": "c67b4500-5c47-4f1a-81e5-ab4abcbfbc23"
      },
      "execution_count": 64,
      "outputs": [
        {
          "output_type": "stream",
          "name": "stdout",
          "text": [
            "Final Positions:\n",
            " tensor([[2., 0., 0.],\n",
            "        [1., 8., 3.],\n",
            "        [4., 0., 4.]])\n",
            "Distances from Origin:\n",
            " tensor([2.0000, 8.6023, 5.6569])\n"
          ]
        }
      ]
    },
    {
      "cell_type": "markdown",
      "source": [
        "Task 3(Bonus)"
      ],
      "metadata": {
        "id": "lKPiLyNN_jg_"
      }
    },
    {
      "cell_type": "code",
      "source": [
        "def reverse_tensor(input: Tensor) -> Tensor:\n",
        "    \"\"\"Reverse the order of elements in the input tensor.\n",
        "\n",
        "    input: 1D tensor\n",
        "\n",
        "    Return: Tensor with the same shape as x but with elements in reverse order.\n",
        "    Use einops.rearrange to implement this without using torch.flip.\n",
        "    \"\"\"\n",
        "    from einops import rearrange\n",
        "    length = input.shape[0]\n",
        "    reversed_indices = t.arange(length - 1, -1, -1)\n",
        "    reversed_input = input[reversed_indices]\n",
        "    return rearrange(reversed_input, 't -> t')\n",
        "\n",
        "\n",
        "input = t.tensor([1, 2, 3, 4, 5])\n",
        "expected = t.tensor([5, 4, 3, 2, 1])\n",
        "assert_all_equal(reverse_tensor(input), expected)"
      ],
      "metadata": {
        "id": "EDfA8YBZ_iuo",
        "colab": {
          "base_uri": "https://localhost:8080/"
        },
        "outputId": "b8cf81ac-9622-4e88-f2ae-36e14b0e41e3"
      },
      "execution_count": 92,
      "outputs": [
        {
          "output_type": "stream",
          "name": "stdout",
          "text": [
            "Tests passed!\n"
          ]
        }
      ]
    }
  ]
}